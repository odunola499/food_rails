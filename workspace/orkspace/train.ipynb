{
 "cells": [
  {
   "cell_type": "code",
   "execution_count": 1,
   "id": "ceb2c0fd-7e96-4f69-8e0d-b6f90a00343e",
   "metadata": {},
   "outputs": [
    {
     "name": "stdout",
     "output_type": "stream",
     "text": [
      "\u001b[33mWARNING: Running pip as the 'root' user can result in broken permissions and conflicting behaviour with the system package manager. It is recommended to use a virtual environment instead: https://pip.pypa.io/warnings/venv\u001b[0m\u001b[33m\n",
      "\u001b[0m\n",
      "\u001b[1m[\u001b[0m\u001b[34;49mnotice\u001b[0m\u001b[1;39;49m]\u001b[0m\u001b[39;49m A new release of pip is available: \u001b[0m\u001b[31;49m23.1.2\u001b[0m\u001b[39;49m -> \u001b[0m\u001b[32;49m23.3.1\u001b[0m\n",
      "\u001b[1m[\u001b[0m\u001b[34;49mnotice\u001b[0m\u001b[1;39;49m]\u001b[0m\u001b[39;49m To update, run: \u001b[0m\u001b[32;49mpython -m pip install --upgrade pip\u001b[0m\n"
     ]
    }
   ],
   "source": [
    "!pip install -q transformers datasets"
   ]
  },
  {
   "cell_type": "code",
   "execution_count": 16,
   "id": "bd64e8d1-9ce9-478a-8aef-5653dbdb9431",
   "metadata": {},
   "outputs": [],
   "source": [
    "dataset_ckpt = 'yelp_review_full'\n",
    "teacher_model_ckpt = 'distilbert-base-uncased'\n",
    "student_model_ckpt = 'google/bert_uncased_L-6_H-512_A-8'"
   ]
  },
  {
   "cell_type": "code",
   "execution_count": 17,
   "id": "f9bff0fc-0395-46c3-a47f-8a5be97b42c0",
   "metadata": {},
   "outputs": [],
   "source": [
    "from huggingface_hub import notebook_login\n",
    "from datasets import load_dataset\n",
    "from torch.utils.data import Dataset\n",
    "from torch.utils.data import DataLoader\n",
    "import torch\n",
    "from transformers import AutoModelForSequenceClassification\n",
    "from torch import nn\n",
    "from torch import optim\n",
    "from torch.nn import functional as F\n",
    "from transformers import AutoTokenizer"
   ]
  },
  {
   "cell_type": "code",
   "execution_count": 18,
   "id": "51337691-6966-43fb-9252-ff8ce5c35af5",
   "metadata": {},
   "outputs": [],
   "source": [
    "data = load_dataset(dataset_ckpt, split = 'test')"
   ]
  },
  {
   "cell_type": "code",
   "execution_count": 19,
   "id": "18b2ae11-ccba-4a80-a695-7b9c7643a407",
   "metadata": {},
   "outputs": [],
   "source": [
    "#making our own sets\n",
    "data = data.shuffle()\n",
    "data = data.train_test_split(test_size = 0.1)\n",
    "train_valid_data = data['train']\n",
    "test_data = data['test']\n",
    "train_valid_data = train_valid_data.train_test_split(test_size = 0.2)\n",
    "train_data = train_valid_data['train']\n",
    "valid_data = train_valid_data['test']"
   ]
  },
  {
   "cell_type": "code",
   "execution_count": 20,
   "id": "cb6b8a75-6d26-4f8e-b3f9-b7b1e3939aa7",
   "metadata": {},
   "outputs": [
    {
     "name": "stdout",
     "output_type": "stream",
     "text": [
      "Train set has 36000 texts\n",
      "Valid set has 9000 texts\n",
      "Test set has 5000 texts\n"
     ]
    }
   ],
   "source": [
    "def get_num_rows(dataset):\n",
    "  return dataset.num_rows\n",
    "\n",
    "print(f'Train set has {get_num_rows(train_data)} texts')\n",
    "print(f'Valid set has {get_num_rows(valid_data)} texts')\n",
    "print(f'Test set has {get_num_rows(test_data)} texts')"
   ]
  },
  {
   "cell_type": "code",
   "execution_count": 21,
   "id": "5fb495be-fec0-4694-8f46-56bc5f7266d8",
   "metadata": {},
   "outputs": [
    {
     "data": {
      "application/vnd.jupyter.widget-view+json": {
       "model_id": "1e0c8089d56d4117bf92d766549b83f9",
       "version_major": 2,
       "version_minor": 0
      },
      "text/plain": [
       "Downloading (…)okenizer_config.json:   0%|          | 0.00/28.0 [00:00<?, ?B/s]"
      ]
     },
     "metadata": {},
     "output_type": "display_data"
    },
    {
     "data": {
      "application/vnd.jupyter.widget-view+json": {
       "model_id": "4df64d9da8e0426487421552706f286b",
       "version_major": 2,
       "version_minor": 0
      },
      "text/plain": [
       "Downloading (…)lve/main/config.json:   0%|          | 0.00/483 [00:00<?, ?B/s]"
      ]
     },
     "metadata": {},
     "output_type": "display_data"
    },
    {
     "data": {
      "application/vnd.jupyter.widget-view+json": {
       "model_id": "25c401daea5c429ea8f5e8cc40b5bd87",
       "version_major": 2,
       "version_minor": 0
      },
      "text/plain": [
       "Downloading (…)solve/main/vocab.txt:   0%|          | 0.00/232k [00:00<?, ?B/s]"
      ]
     },
     "metadata": {},
     "output_type": "display_data"
    },
    {
     "data": {
      "application/vnd.jupyter.widget-view+json": {
       "model_id": "4d93ff8ea8e74ef0b33259389d42ea53",
       "version_major": 2,
       "version_minor": 0
      },
      "text/plain": [
       "Downloading (…)/main/tokenizer.json:   0%|          | 0.00/466k [00:00<?, ?B/s]"
      ]
     },
     "metadata": {},
     "output_type": "display_data"
    }
   ],
   "source": [
    "tokenizer = AutoTokenizer.from_pretrained(teacher_model_ckpt)"
   ]
  },
  {
   "cell_type": "code",
   "execution_count": 22,
   "id": "b2995802-7f22-4441-b35f-53bee424849f",
   "metadata": {},
   "outputs": [],
   "source": [
    "#now we would utilise pytorch's Dataset andDataloader classes to create our dataset\n",
    "\n",
    "class MyData(Dataset):\n",
    "  def __init__(self, data):\n",
    "    targets = data['label']\n",
    "    texts = data['text']\n",
    "\n",
    "    tokens = tokenizer(texts, return_tensors = 'pt', truncation = True, padding = True)\n",
    "    self.input_ids = tokens['input_ids']\n",
    "    self.attention_mask = tokens['attention_mask']\n",
    "    self.targets = torch.tensor(targets)\n",
    "    self.length = len(texts)\n",
    "  def __len__(self):\n",
    "    return self.length\n",
    "  def __getitem__(self, index):\n",
    "    return self.input_ids[index],self.attention_mask[index], self.targets[index]"
   ]
  },
  {
   "cell_type": "code",
   "execution_count": 23,
   "id": "3f089b95-2215-4d5f-8761-2d983707870e",
   "metadata": {},
   "outputs": [],
   "source": [
    "train_data = MyData(train_data)\n",
    "valid_data = MyData(valid_data)\n",
    "test_data = MyData(test_data)"
   ]
  },
  {
   "cell_type": "code",
   "execution_count": 24,
   "id": "0f6f0985-1b22-4608-af7b-8329b8be2c97",
   "metadata": {},
   "outputs": [],
   "source": [
    "# now we build our loaders\n",
    "batch_size = 8\n",
    "train_loader = DataLoader(train_data, shuffle = True, batch_size = batch_size)\n",
    "valid_loader = DataLoader(valid_data, shuffle  = True, batch_size = batch_size)\n",
    "test_loader = DataLoader(test_data, shuffle = True, batch_size = batch_size)\n"
   ]
  },
  {
   "cell_type": "code",
   "execution_count": 25,
   "id": "d4efdf0c-71f9-4c51-8966-176ee53bb9af",
   "metadata": {},
   "outputs": [],
   "source": [
    "device = torch.device('cuda') if torch.cuda.is_available() else torch.device('cpu')"
   ]
  },
  {
   "cell_type": "code",
   "execution_count": 26,
   "id": "9cc2a870-a4c9-4c9c-bfbc-9168cb07ee7d",
   "metadata": {},
   "outputs": [],
   "source": [
    "from tqdm import tqdm\n",
    "# this is a pytorch function to help us compute loss as we train\n",
    "def accuracy_score(batch, model):\n",
    "  with torch.no_grad():\n",
    "    outputs = model(\n",
    "        batch[0].to(device),\n",
    "        batch[1].to(device)\n",
    "    )\n",
    "    logits = outputs.logits\n",
    "    probabilities = torch.softmax(logits, dim = 1)\n",
    "    class_predictions = torch.argmax(probabilities, dim = 1)\n",
    "    return torch.mean((class_predictions == batch[2].to(device)).to(torch.float)).data.item()"
   ]
  },
  {
   "cell_type": "code",
   "execution_count": 27,
   "id": "9deb5f0c-c21f-49f2-9bc1-85f9255f7c90",
   "metadata": {},
   "outputs": [
    {
     "data": {
      "application/vnd.jupyter.widget-view+json": {
       "model_id": "9c844f72069143c3bf635efef9e5d4e0",
       "version_major": 2,
       "version_minor": 0
      },
      "text/plain": [
       "Downloading model.safetensors:   0%|          | 0.00/268M [00:00<?, ?B/s]"
      ]
     },
     "metadata": {},
     "output_type": "display_data"
    },
    {
     "name": "stderr",
     "output_type": "stream",
     "text": [
      "Some weights of DistilBertForSequenceClassification were not initialized from the model checkpoint at distilbert-base-uncased and are newly initialized: ['classifier.weight', 'pre_classifier.bias', 'classifier.bias', 'pre_classifier.weight']\n",
      "You should probably TRAIN this model on a down-stream task to be able to use it for predictions and inference.\n"
     ]
    }
   ],
   "source": [
    "teacher_model = AutoModelForSequenceClassification.from_pretrained(teacher_model_ckpt, num_labels = 5)"
   ]
  },
  {
   "cell_type": "code",
   "execution_count": 28,
   "id": "3fff7ddd-896d-4f69-9905-34308c978495",
   "metadata": {},
   "outputs": [
    {
     "data": {
      "text/plain": [
       "DistilBertForSequenceClassification(\n",
       "  (distilbert): DistilBertModel(\n",
       "    (embeddings): Embeddings(\n",
       "      (word_embeddings): Embedding(30522, 768, padding_idx=0)\n",
       "      (position_embeddings): Embedding(512, 768)\n",
       "      (LayerNorm): LayerNorm((768,), eps=1e-12, elementwise_affine=True)\n",
       "      (dropout): Dropout(p=0.1, inplace=False)\n",
       "    )\n",
       "    (transformer): Transformer(\n",
       "      (layer): ModuleList(\n",
       "        (0-5): 6 x TransformerBlock(\n",
       "          (attention): MultiHeadSelfAttention(\n",
       "            (dropout): Dropout(p=0.1, inplace=False)\n",
       "            (q_lin): Linear(in_features=768, out_features=768, bias=True)\n",
       "            (k_lin): Linear(in_features=768, out_features=768, bias=True)\n",
       "            (v_lin): Linear(in_features=768, out_features=768, bias=True)\n",
       "            (out_lin): Linear(in_features=768, out_features=768, bias=True)\n",
       "          )\n",
       "          (sa_layer_norm): LayerNorm((768,), eps=1e-12, elementwise_affine=True)\n",
       "          (ffn): FFN(\n",
       "            (dropout): Dropout(p=0.1, inplace=False)\n",
       "            (lin1): Linear(in_features=768, out_features=3072, bias=True)\n",
       "            (lin2): Linear(in_features=3072, out_features=768, bias=True)\n",
       "            (activation): GELUActivation()\n",
       "          )\n",
       "          (output_layer_norm): LayerNorm((768,), eps=1e-12, elementwise_affine=True)\n",
       "        )\n",
       "      )\n",
       "    )\n",
       "  )\n",
       "  (pre_classifier): Linear(in_features=768, out_features=768, bias=True)\n",
       "  (classifier): Linear(in_features=768, out_features=2, bias=True)\n",
       "  (dropout): Dropout(p=0.2, inplace=False)\n",
       ")"
      ]
     },
     "execution_count": 28,
     "metadata": {},
     "output_type": "execute_result"
    }
   ],
   "source": [
    "epochs = 4\n",
    "learning_rate = 2e-5\n",
    "criterion = nn.CrossEntropyLoss()\n",
    "optimizer = optim.Adam(teacher_model.parameters(), lr = learning_rate)\n",
    "\n",
    "teacher_model.to(device)"
   ]
  },
  {
   "cell_type": "code",
   "execution_count": 29,
   "id": "a4901572-933d-41b8-9f3d-f7a14b74acc1",
   "metadata": {},
   "outputs": [
    {
     "name": "stderr",
     "output_type": "stream",
     "text": [
      "  0%|          | 0/4 [00:00<?, ?it/s]\n",
      "  0%|          | 0/4500 [00:00<?, ?it/s]\u001b[A../aten/src/ATen/native/cuda/Loss.cu:240: nll_loss_forward_reduce_cuda_kernel_2d: block: [0,0,0], thread: [0,0,0] Assertion `t >= 0 && t < n_classes` failed.\n",
      "../aten/src/ATen/native/cuda/Loss.cu:240: nll_loss_forward_reduce_cuda_kernel_2d: block: [0,0,0], thread: [2,0,0] Assertion `t >= 0 && t < n_classes` failed.\n",
      "../aten/src/ATen/native/cuda/Loss.cu:240: nll_loss_forward_reduce_cuda_kernel_2d: block: [0,0,0], thread: [3,0,0] Assertion `t >= 0 && t < n_classes` failed.\n",
      "../aten/src/ATen/native/cuda/Loss.cu:240: nll_loss_forward_reduce_cuda_kernel_2d: block: [0,0,0], thread: [4,0,0] Assertion `t >= 0 && t < n_classes` failed.\n",
      "../aten/src/ATen/native/cuda/Loss.cu:240: nll_loss_forward_reduce_cuda_kernel_2d: block: [0,0,0], thread: [5,0,0] Assertion `t >= 0 && t < n_classes` failed.\n",
      "  0%|          | 0/4500 [00:00<?, ?it/s]\n",
      "  0%|          | 0/4 [00:00<?, ?it/s]\n"
     ]
    },
    {
     "ename": "RuntimeError",
     "evalue": "unique_by_key: failed to synchronize: cudaErrorAssert: device-side assert triggered",
     "output_type": "error",
     "traceback": [
      "\u001b[0;31m---------------------------------------------------------------------------\u001b[0m",
      "\u001b[0;31mRuntimeError\u001b[0m                              Traceback (most recent call last)",
      "Cell \u001b[0;32mIn[29], line 15\u001b[0m\n\u001b[1;32m     13\u001b[0m output \u001b[38;5;241m=\u001b[39m teacher_model(input_ids \u001b[38;5;241m=\u001b[39m input_ids, attention_mask \u001b[38;5;241m=\u001b[39m attention_mask)\n\u001b[1;32m     14\u001b[0m loss \u001b[38;5;241m=\u001b[39m criterion(output\u001b[38;5;241m.\u001b[39mlogits, target_tensors)\n\u001b[0;32m---> 15\u001b[0m \u001b[43mloss\u001b[49m\u001b[38;5;241;43m.\u001b[39;49m\u001b[43mbackward\u001b[49m\u001b[43m(\u001b[49m\u001b[43m)\u001b[49m\n\u001b[1;32m     16\u001b[0m optimizer\u001b[38;5;241m.\u001b[39mstep()\n\u001b[1;32m     17\u001b[0m training_loss \u001b[38;5;241m+\u001b[39m\u001b[38;5;241m=\u001b[39m loss\u001b[38;5;241m.\u001b[39mdata\u001b[38;5;241m.\u001b[39mitem()\n",
      "File \u001b[0;32m/usr/local/lib/python3.10/dist-packages/torch/_tensor.py:487\u001b[0m, in \u001b[0;36mTensor.backward\u001b[0;34m(self, gradient, retain_graph, create_graph, inputs)\u001b[0m\n\u001b[1;32m    477\u001b[0m \u001b[38;5;28;01mif\u001b[39;00m has_torch_function_unary(\u001b[38;5;28mself\u001b[39m):\n\u001b[1;32m    478\u001b[0m     \u001b[38;5;28;01mreturn\u001b[39;00m handle_torch_function(\n\u001b[1;32m    479\u001b[0m         Tensor\u001b[38;5;241m.\u001b[39mbackward,\n\u001b[1;32m    480\u001b[0m         (\u001b[38;5;28mself\u001b[39m,),\n\u001b[0;32m   (...)\u001b[0m\n\u001b[1;32m    485\u001b[0m         inputs\u001b[38;5;241m=\u001b[39minputs,\n\u001b[1;32m    486\u001b[0m     )\n\u001b[0;32m--> 487\u001b[0m \u001b[43mtorch\u001b[49m\u001b[38;5;241;43m.\u001b[39;49m\u001b[43mautograd\u001b[49m\u001b[38;5;241;43m.\u001b[39;49m\u001b[43mbackward\u001b[49m\u001b[43m(\u001b[49m\n\u001b[1;32m    488\u001b[0m \u001b[43m    \u001b[49m\u001b[38;5;28;43mself\u001b[39;49m\u001b[43m,\u001b[49m\u001b[43m \u001b[49m\u001b[43mgradient\u001b[49m\u001b[43m,\u001b[49m\u001b[43m \u001b[49m\u001b[43mretain_graph\u001b[49m\u001b[43m,\u001b[49m\u001b[43m \u001b[49m\u001b[43mcreate_graph\u001b[49m\u001b[43m,\u001b[49m\u001b[43m \u001b[49m\u001b[43minputs\u001b[49m\u001b[38;5;241;43m=\u001b[39;49m\u001b[43minputs\u001b[49m\n\u001b[1;32m    489\u001b[0m \u001b[43m\u001b[49m\u001b[43m)\u001b[49m\n",
      "File \u001b[0;32m/usr/local/lib/python3.10/dist-packages/torch/autograd/__init__.py:200\u001b[0m, in \u001b[0;36mbackward\u001b[0;34m(tensors, grad_tensors, retain_graph, create_graph, grad_variables, inputs)\u001b[0m\n\u001b[1;32m    195\u001b[0m     retain_graph \u001b[38;5;241m=\u001b[39m create_graph\n\u001b[1;32m    197\u001b[0m \u001b[38;5;66;03m# The reason we repeat same the comment below is that\u001b[39;00m\n\u001b[1;32m    198\u001b[0m \u001b[38;5;66;03m# some Python versions print out the first line of a multi-line function\u001b[39;00m\n\u001b[1;32m    199\u001b[0m \u001b[38;5;66;03m# calls in the traceback and some print out the last line\u001b[39;00m\n\u001b[0;32m--> 200\u001b[0m \u001b[43mVariable\u001b[49m\u001b[38;5;241;43m.\u001b[39;49m\u001b[43m_execution_engine\u001b[49m\u001b[38;5;241;43m.\u001b[39;49m\u001b[43mrun_backward\u001b[49m\u001b[43m(\u001b[49m\u001b[43m  \u001b[49m\u001b[38;5;66;43;03m# Calls into the C++ engine to run the backward pass\u001b[39;49;00m\n\u001b[1;32m    201\u001b[0m \u001b[43m    \u001b[49m\u001b[43mtensors\u001b[49m\u001b[43m,\u001b[49m\u001b[43m \u001b[49m\u001b[43mgrad_tensors_\u001b[49m\u001b[43m,\u001b[49m\u001b[43m \u001b[49m\u001b[43mretain_graph\u001b[49m\u001b[43m,\u001b[49m\u001b[43m \u001b[49m\u001b[43mcreate_graph\u001b[49m\u001b[43m,\u001b[49m\u001b[43m \u001b[49m\u001b[43minputs\u001b[49m\u001b[43m,\u001b[49m\n\u001b[1;32m    202\u001b[0m \u001b[43m    \u001b[49m\u001b[43mallow_unreachable\u001b[49m\u001b[38;5;241;43m=\u001b[39;49m\u001b[38;5;28;43;01mTrue\u001b[39;49;00m\u001b[43m,\u001b[49m\u001b[43m \u001b[49m\u001b[43maccumulate_grad\u001b[49m\u001b[38;5;241;43m=\u001b[39;49m\u001b[38;5;28;43;01mTrue\u001b[39;49;00m\u001b[43m)\u001b[49m\n",
      "\u001b[0;31mRuntimeError\u001b[0m: unique_by_key: failed to synchronize: cudaErrorAssert: device-side assert triggered"
     ]
    }
   ],
   "source": [
    "for epoch in tqdm(range(epochs), total = epochs):\n",
    "  #start training loader\n",
    "  teacher_model.train()\n",
    "  training_loss = 0.0\n",
    "  training_accuracy = 0.0\n",
    "  valid_loss = 0.0\n",
    "  valid_accuracy = 0.0\n",
    "  for a in tqdm(train_loader, total = len(train_loader)):\n",
    "    optimizer.zero_grad()\n",
    "    input_ids = a[0].to(device)\n",
    "    attention_mask = a[1].to(device)\n",
    "    target_tensors = a[2].to(device)\n",
    "    output = teacher_model(input_ids = input_ids, attention_mask = attention_mask)\n",
    "    loss = criterion(output.logits, target_tensors)\n",
    "    loss.backward()\n",
    "    optimizer.step()\n",
    "    training_loss += loss.data.item()\n",
    "    training_accuracy += accuracy_score(a, teacher_model)\n",
    "  teacher_model.eval()\n",
    "  for b in tqdm(valid_loader, total = len(valid_loader)):\n",
    "    input_ids = b[0].to(device)\n",
    "    attention_mask = b[1].to(device)\n",
    "    target_tensors = b[2].to(device)\n",
    "    output = teacher_model(input_ids = input_ids, attention_mask = attention_mask)\n",
    "    loss = criterion(output.logits, target_tensors)\n",
    "    valid_loss += loss.data.item()\n",
    "    valid_accuracy += accuracy_score(b, teacher_model)\n",
    "\n",
    "  training_accuracy /= len(train_loader)\n",
    "  valid_accuracy /= len(valid_loader)\n",
    "  training_loss /= len(train_loader)\n",
    "  valid_loss /= len(valid_loader)\n",
    "  #we would also test accuracy on validation\n",
    "  print(f\"\"\"\n",
    "    After epochs {epoch + 1}, training loss was {training_loss}, validation_loss was {valid_loss}. training_accuracy {training_accuracy} valid_accuracy {valid_accuracy}\n",
    "  \"\"\")\n",
    "\n",
    "\n"
   ]
  },
  {
   "cell_type": "code",
   "execution_count": null,
   "id": "efd8ac12-d6e3-4db1-a9ea-ebc9e5f4f226",
   "metadata": {},
   "outputs": [],
   "source": []
  }
 ],
 "metadata": {
  "kernelspec": {
   "display_name": "Python 3 (ipykernel)",
   "language": "python",
   "name": "python3"
  },
  "language_info": {
   "codemirror_mode": {
    "name": "ipython",
    "version": 3
   },
   "file_extension": ".py",
   "mimetype": "text/x-python",
   "name": "python",
   "nbconvert_exporter": "python",
   "pygments_lexer": "ipython3",
   "version": "3.10.6"
  }
 },
 "nbformat": 4,
 "nbformat_minor": 5
}
